{
 "cells": [
  {
   "cell_type": "markdown",
   "source": [
    "# Types of variable assignments in Python"
   ],
   "metadata": {
    "collapsed": false
   }
  },
  {
   "cell_type": "code",
   "execution_count": 2596,
   "outputs": [
    {
     "name": "stdout",
     "output_type": "stream",
     "text": [
      "w = 1\n",
      "x = 2, y = 3, z = 4\n"
     ]
    }
   ],
   "source": [
    "import collections\n",
    "import operator\n",
    "\n",
    "w = 1\n",
    "print(f'w = {w}')\n",
    "x,y,z = 2,3,4\n",
    "print(f'x = {x}, y = {y}, z = {z}')"
   ],
   "metadata": {
    "collapsed": false,
    "pycharm": {
     "name": "#%%\n"
    }
   }
  },
  {
   "cell_type": "code",
   "execution_count": 2597,
   "outputs": [
    {
     "name": "stdout",
     "output_type": "stream",
     "text": [
      "x = 2, y = 3, z = 4\n"
     ]
    }
   ],
   "source": [
    "[x,y,z] = [2,3,4]\n",
    "print(f'x = {x}, y = {y}, z = {z}')"
   ],
   "metadata": {
    "collapsed": false,
    "pycharm": {
     "name": "#%%\n"
    }
   }
  },
  {
   "cell_type": "code",
   "execution_count": 2598,
   "outputs": [
    {
     "name": "stdout",
     "output_type": "stream",
     "text": [
      "x = 2, y = 3, z = 4\n"
     ]
    }
   ],
   "source": [
    "x,y,z = [2,3,4]\n",
    "print(f'x = {x}, y = {y}, z = {z}')"
   ],
   "metadata": {
    "collapsed": false,
    "pycharm": {
     "name": "#%%\n"
    }
   }
  },
  {
   "cell_type": "code",
   "execution_count": 2599,
   "outputs": [
    {
     "name": "stdout",
     "output_type": "stream",
     "text": [
      "x = 2, y = [3, 4]\n"
     ]
    }
   ],
   "source": [
    "x,*y = [2,3,4]\n",
    "print(f'x = {x}, y = {y}')"
   ],
   "metadata": {
    "collapsed": false,
    "pycharm": {
     "name": "#%%\n"
    }
   }
  },
  {
   "cell_type": "code",
   "execution_count": 2600,
   "outputs": [
    {
     "name": "stdout",
     "output_type": "stream",
     "text": [
      "x = H, y = ['e', 'l', 'l', 'o']\n"
     ]
    }
   ],
   "source": [
    "x,*y = 'Hello'\n",
    "print(f'x = {x}, y = {y}')"
   ],
   "metadata": {
    "collapsed": false,
    "pycharm": {
     "name": "#%%\n"
    }
   }
  },
  {
   "cell_type": "code",
   "execution_count": 2601,
   "outputs": [
    {
     "name": "stdout",
     "output_type": "stream",
     "text": [
      "x = 5, y = 5\n"
     ]
    }
   ],
   "source": [
    "x = y = 5\n",
    "print(f'x = {x}, y = {y}')"
   ],
   "metadata": {
    "collapsed": false,
    "pycharm": {
     "name": "#%%\n"
    }
   }
  },
  {
   "cell_type": "code",
   "execution_count": 2602,
   "outputs": [
    {
     "name": "stdout",
     "output_type": "stream",
     "text": [
      "x = 6, y = 4\n"
     ]
    }
   ],
   "source": [
    "x += 1\n",
    "y -= 1\n",
    "print(f'x = {x}, y = {y}')"
   ],
   "metadata": {
    "collapsed": false,
    "pycharm": {
     "name": "#%%\n"
    }
   }
  },
  {
   "cell_type": "markdown",
   "source": [
    "# Error Handling"
   ],
   "metadata": {
    "collapsed": false
   }
  },
  {
   "cell_type": "code",
   "execution_count": 2603,
   "outputs": [],
   "source": [
    "class RecordNotFoundError(Exception):\n",
    "    def __str__(self):\n",
    "        return \"record not found\"\n",
    "\n",
    "def read_record(id):\n",
    "    # built-in exception\n",
    "    if not isinstance(id, int):\n",
    "        raise ValueError(\"invalid id\")\n",
    "    # custom exception\n",
    "    if id > 100:\n",
    "        raise RecordNotFoundError()\n",
    "    return {'key': id}"
   ],
   "metadata": {
    "collapsed": false,
    "pycharm": {
     "name": "#%%\n"
    }
   }
  },
  {
   "cell_type": "code",
   "execution_count": 2604,
   "outputs": [
    {
     "name": "stdout",
     "output_type": "stream",
     "text": [
      "invalid id for record: 1\n",
      "finish fetching record: 1\n",
      "\n",
      "found record: {'key': 2} for id: 2\n",
      "successful fetch from database for record: 2\n",
      "finish fetching record: 2\n",
      "\n",
      "found record: {'key': 10} for id: 10\n",
      "successful fetch from database for record: 10\n",
      "finish fetching record: 10\n",
      "\n",
      "record: 1000 not found\n",
      "finish fetching record: 1000\n",
      "\n"
     ]
    }
   ],
   "source": [
    "for id in ['1', 2, 10, 1000]:\n",
    "    try:\n",
    "        r = read_record(id)\n",
    "        # everything is fine here\n",
    "        print(\"found record: {} for id: {}\".format(r, id))\n",
    "    except RecordNotFoundError as e:\n",
    "        # catch specific exceptions\n",
    "        print(\"record: {} not found\".format(id))\n",
    "    except Exception as e:\n",
    "        # catch all other unpredicted exceptions\n",
    "        print(\"{} for record: {}\".format(e, id))\n",
    "    else:\n",
    "        # if no exception occurs\n",
    "        print(\"successful fetch from database for record: {}\".format(id))\n",
    "    finally:\n",
    "        # close resources (e.g. database connection), either exception occurs or not\n",
    "        print(\"finish fetching record: {}\\n\".format(id))"
   ],
   "metadata": {
    "collapsed": false,
    "pycharm": {
     "name": "#%%\n"
    }
   }
  },
  {
   "cell_type": "markdown",
   "source": [
    "# Data structures"
   ],
   "metadata": {
    "collapsed": false
   }
  },
  {
   "cell_type": "markdown",
   "source": [
    "### List"
   ],
   "metadata": {
    "collapsed": false
   }
  },
  {
   "cell_type": "code",
   "execution_count": 2605,
   "outputs": [],
   "source": [
    "cities_list = [\"Ottawa\", \"Calgary\", \"Edmonton\", \"Victoria\", \"Winnipeg\", \"Toronto\", \"Montreal\"]"
   ],
   "metadata": {
    "collapsed": false,
    "pycharm": {
     "name": "#%%\n"
    }
   }
  },
  {
   "cell_type": "code",
   "execution_count": 2606,
   "outputs": [
    {
     "name": "stdout",
     "output_type": "stream",
     "text": [
      "city : Ottawa\n",
      "city : Calgary\n",
      "city : Edmonton\n",
      "city : Victoria\n",
      "city : Winnipeg\n",
      "city : Toronto\n",
      "city : Montreal\n"
     ]
    }
   ],
   "source": [
    "# iterate over values\n",
    "for city in cities_list:\n",
    "    print(\"city : {}\".format(city))"
   ],
   "metadata": {
    "collapsed": false,
    "pycharm": {
     "name": "#%%\n"
    }
   }
  },
  {
   "cell_type": "code",
   "execution_count": 2607,
   "outputs": [
    {
     "name": "stdout",
     "output_type": "stream",
     "text": [
      "0 - city : Ottawa\n",
      "1 - city : Calgary\n",
      "2 - city : Edmonton\n",
      "3 - city : Victoria\n",
      "4 - city : Winnipeg\n",
      "5 - city : Toronto\n",
      "6 - city : Montreal\n"
     ]
    }
   ],
   "source": [
    "# iterate over index and values\n",
    "for index, city in enumerate(cities_list):\n",
    "    print(\"{} - city : {}\".format(index, city))"
   ],
   "metadata": {
    "collapsed": false,
    "pycharm": {
     "name": "#%%\n"
    }
   }
  },
  {
   "cell_type": "code",
   "execution_count": 2608,
   "outputs": [
    {
     "name": "stdout",
     "output_type": "stream",
     "text": [
      "0 - city : Ottawa\n",
      "1 - city : Calgary\n",
      "2 - city : Edmonton\n",
      "3 - city : Victoria\n",
      "4 - city : Winnipeg\n",
      "5 - city : Toronto\n",
      "6 - city : Montreal\n"
     ]
    }
   ],
   "source": [
    "# iterate over index and values\n",
    "for index in range(len(cities_list)):\n",
    "    print(\"{} - city : {}\".format(index, cities_list[index]))"
   ],
   "metadata": {
    "collapsed": false,
    "pycharm": {
     "name": "#%%\n"
    }
   }
  },
  {
   "cell_type": "code",
   "execution_count": 2609,
   "outputs": [
    {
     "name": "stdout",
     "output_type": "stream",
     "text": [
      "2 - city : Edmonton\n",
      "3 - city : Victoria\n",
      "4 - city : Winnipeg\n",
      "5 - city : Toronto\n",
      "6 - city : Montreal\n"
     ]
    }
   ],
   "source": [
    "# except first two values\n",
    "for index in range(2, len(cities_list)):\n",
    "    print(\"{} - city : {}\".format(index, cities_list[index]))"
   ],
   "metadata": {
    "collapsed": false,
    "pycharm": {
     "name": "#%%\n"
    }
   }
  },
  {
   "cell_type": "code",
   "execution_count": 2610,
   "outputs": [
    {
     "name": "stdout",
     "output_type": "stream",
     "text": [
      "0 - city : Edmonton\n",
      "1 - city : Victoria\n",
      "2 - city : Winnipeg\n",
      "3 - city : Toronto\n",
      "4 - city : Montreal\n"
     ]
    }
   ],
   "source": [
    "# alternative by sublist\n",
    "cities_list_sublist = cities_list[2:]\n",
    "for index in range(len(cities_list_sublist)):\n",
    "    print(\"{} - city : {}\".format(index, cities_list_sublist[index]))"
   ],
   "metadata": {
    "collapsed": false,
    "pycharm": {
     "name": "#%%\n"
    }
   }
  },
  {
   "cell_type": "code",
   "execution_count": 2611,
   "outputs": [
    {
     "name": "stdout",
     "output_type": "stream",
     "text": [
      "['Ottawa', 'Calgary', 'Edmonton', 'Victoria', 'Winnipeg']\n"
     ]
    }
   ],
   "source": [
    "# items in the list except two last items\n",
    "print(cities_list[:-2])"
   ],
   "metadata": {
    "collapsed": false,
    "pycharm": {
     "name": "#%%\n"
    }
   }
  },
  {
   "cell_type": "code",
   "execution_count": 2612,
   "outputs": [
    {
     "name": "stdout",
     "output_type": "stream",
     "text": [
      "['Ottawa', 'Edmonton', 'Winnipeg', 'Montreal']\n"
     ]
    }
   ],
   "source": [
    "# get every second items\n",
    "print(cities_list[::2])"
   ],
   "metadata": {
    "collapsed": false,
    "pycharm": {
     "name": "#%%\n"
    }
   }
  },
  {
   "cell_type": "code",
   "execution_count": 2613,
   "outputs": [
    {
     "name": "stdout",
     "output_type": "stream",
     "text": [
      "['Montreal', 'Toronto', 'Winnipeg', 'Victoria', 'Edmonton', 'Calgary', 'Ottawa']\n"
     ]
    }
   ],
   "source": [
    "# reverse list\n",
    "print(cities_list[::-1])"
   ],
   "metadata": {
    "collapsed": false,
    "pycharm": {
     "name": "#%%\n"
    }
   }
  },
  {
   "cell_type": "code",
   "execution_count": 2614,
   "outputs": [
    {
     "name": "stdout",
     "output_type": "stream",
     "text": [
      "False\n",
      "False\n"
     ]
    }
   ],
   "source": [
    "# check if Vancouver is in the list\n",
    "print(cities_list.__contains__('Vancouver'))\n",
    "# alternative using magic functions:\n",
    "print('Vancouver' in cities_list)"
   ],
   "metadata": {
    "collapsed": false,
    "pycharm": {
     "name": "#%%\n"
    }
   }
  },
  {
   "cell_type": "code",
   "execution_count": 2615,
   "outputs": [
    {
     "name": "stdout",
     "output_type": "stream",
     "text": [
      "['Ottawa', 'Calgary', 'Edmonton', 'Victoria', 'Winnipeg', 'Toronto', 'Montreal', 'Vancouver']\n",
      "['Ottawa', 'Calgary', 'Edmonton', 'Victoria', 'Winnipeg', 'Toronto', 'Montreal', 'Vancouver', 'Vancouver']\n"
     ]
    }
   ],
   "source": [
    "# add Vancouver to the list\n",
    "cities_list.append('Vancouver')\n",
    "print(cities_list)\n",
    "# or:\n",
    "cities_list += ['Vancouver']\n",
    "print(cities_list)"
   ],
   "metadata": {
    "collapsed": false,
    "pycharm": {
     "name": "#%%\n"
    }
   }
  },
  {
   "cell_type": "markdown",
   "source": [
    "### Set"
   ],
   "metadata": {
    "collapsed": false
   }
  },
  {
   "cell_type": "code",
   "execution_count": 2616,
   "outputs": [],
   "source": [
    "cities_set = set(cities_list)\n",
    "cities_set.add(\"Ottawa\")"
   ],
   "metadata": {
    "collapsed": false,
    "pycharm": {
     "name": "#%%\n"
    }
   }
  },
  {
   "cell_type": "code",
   "execution_count": 2617,
   "outputs": [
    {
     "name": "stdout",
     "output_type": "stream",
     "text": [
      "city : Victoria\n",
      "city : Toronto\n",
      "city : Montreal\n",
      "city : Calgary\n",
      "city : Edmonton\n",
      "city : Vancouver\n",
      "city : Ottawa\n",
      "city : Winnipeg\n"
     ]
    }
   ],
   "source": [
    "# iterate over values\n",
    "for city in cities_set:\n",
    "    print(\"city : {}\".format(city))"
   ],
   "metadata": {
    "collapsed": false,
    "pycharm": {
     "name": "#%%\n"
    }
   }
  },
  {
   "cell_type": "markdown",
   "source": [
    "### Tuple"
   ],
   "metadata": {
    "collapsed": false
   }
  },
  {
   "cell_type": "code",
   "execution_count": 2618,
   "outputs": [
    {
     "name": "stdout",
     "output_type": "stream",
     "text": [
      "city : Ottawa\n",
      "city : Calgary\n",
      "city : Edmonton\n",
      "city : Victoria\n",
      "city : Winnipeg\n",
      "city : Toronto\n",
      "city : Montreal\n",
      "city : Vancouver\n",
      "city : Vancouver\n"
     ]
    }
   ],
   "source": [
    "cities_tuple = tuple(cities_list)\n",
    "for city in cities_tuple:\n",
    "    print(\"city : {}\".format(city))"
   ],
   "metadata": {
    "collapsed": false,
    "pycharm": {
     "name": "#%%\n"
    }
   }
  },
  {
   "cell_type": "markdown",
   "source": [
    "### Dict"
   ],
   "metadata": {
    "collapsed": false
   }
  },
  {
   "cell_type": "code",
   "execution_count": 2619,
   "outputs": [],
   "source": [
    "cities_to_province_dict = {\"Ottawa\": \"Ontario\", \"Calgary\": \"Alberta\", \"Edmonton\": \"Alberta\", \"Victoria\": \"British Columbia\", \"Winnipeg\": \"Manitoba\", \"Toronto\": \"Ontario\", \"Montreal\": \"Quebec\", \"Vancouver\": \"British Columbia\"}"
   ],
   "metadata": {
    "collapsed": false,
    "pycharm": {
     "name": "#%%\n"
    }
   }
  },
  {
   "cell_type": "code",
   "execution_count": 2620,
   "outputs": [
    {
     "name": "stdout",
     "output_type": "stream",
     "text": [
      "0 - city : Ottawa, province = Ontario\n",
      "1 - city : Calgary, province = Alberta\n",
      "2 - city : Edmonton, province = Alberta\n",
      "3 - city : Victoria, province = British Columbia\n",
      "4 - city : Winnipeg, province = Manitoba\n",
      "5 - city : Toronto, province = Ontario\n",
      "6 - city : Montreal, province = Quebec\n",
      "7 - city : Vancouver, province = British Columbia\n"
     ]
    }
   ],
   "source": [
    "for index, city in enumerate(cities_to_province_dict):\n",
    "    print(\"{} - city : {}, province = {}\".format(index, city, cities_to_province_dict[city]))"
   ],
   "metadata": {
    "collapsed": false,
    "pycharm": {
     "name": "#%%\n"
    }
   }
  },
  {
   "cell_type": "code",
   "execution_count": 2621,
   "outputs": [
    {
     "name": "stdout",
     "output_type": "stream",
     "text": [
      "type = <class 'tuple'> - city : Ottawa, province = Ontario\n",
      "type = <class 'tuple'> - city : Calgary, province = Alberta\n",
      "type = <class 'tuple'> - city : Edmonton, province = Alberta\n",
      "type = <class 'tuple'> - city : Victoria, province = British Columbia\n",
      "type = <class 'tuple'> - city : Winnipeg, province = Manitoba\n",
      "type = <class 'tuple'> - city : Toronto, province = Ontario\n",
      "type = <class 'tuple'> - city : Montreal, province = Quebec\n",
      "type = <class 'tuple'> - city : Vancouver, province = British Columbia\n"
     ]
    }
   ],
   "source": [
    "for t in cities_to_province_dict.items():\n",
    "    print(\"type = {} - city : {}, province = {}\".format(type(t), t[0], t[1]))"
   ],
   "metadata": {
    "collapsed": false,
    "pycharm": {
     "name": "#%%\n"
    }
   }
  },
  {
   "cell_type": "code",
   "execution_count": 2622,
   "outputs": [
    {
     "name": "stdout",
     "output_type": "stream",
     "text": [
      "Ottawa: Ontario\n",
      "Calgary: Alberta\n",
      "Edmonton: Alberta\n",
      "Victoria: British Columbia\n",
      "Winnipeg: Manitoba\n",
      "Toronto: Ontario\n",
      "Montreal: Quebec\n",
      "Vancouver: British Columbia\n"
     ]
    }
   ],
   "source": [
    "for city in cities_to_province_dict.keys():\n",
    "    print(\"{}: {}\".format(city, cities_to_province_dict[city]))"
   ],
   "metadata": {
    "collapsed": false,
    "pycharm": {
     "name": "#%%\n"
    }
   }
  },
  {
   "cell_type": "markdown",
   "source": [
    "# String operations"
   ],
   "metadata": {
    "collapsed": false
   }
  },
  {
   "cell_type": "markdown",
   "source": [
    "### Access characters"
   ],
   "metadata": {
    "collapsed": false
   }
  },
  {
   "cell_type": "code",
   "execution_count": 2623,
   "outputs": [],
   "source": [
    "s = \"Hello\""
   ],
   "metadata": {
    "collapsed": false,
    "pycharm": {
     "name": "#%%\n"
    }
   }
  },
  {
   "cell_type": "code",
   "execution_count": 2624,
   "outputs": [
    {
     "name": "stdout",
     "output_type": "stream",
     "text": [
      "0 - H\n",
      "1 - e\n",
      "2 - l\n",
      "3 - l\n",
      "4 - o\n"
     ]
    }
   ],
   "source": [
    "for i,char in enumerate(s):\n",
    "    print(\"{} - {}\".format(i, char))"
   ],
   "metadata": {
    "collapsed": false,
    "pycharm": {
     "name": "#%%\n"
    }
   }
  },
  {
   "cell_type": "markdown",
   "source": [
    "### Convert"
   ],
   "metadata": {
    "collapsed": false
   }
  },
  {
   "cell_type": "code",
   "execution_count": 2625,
   "outputs": [
    {
     "name": "stdout",
     "output_type": "stream",
     "text": [
      "1 : <class 'int'>\n",
      "1 : <class 'int'>, 1.2 : <class 'float'>\n"
     ]
    }
   ],
   "source": [
    "s = \"1\"\n",
    "i = int(s)\n",
    "print(f\"{i} : {type(i)}\")\n",
    "\n",
    "s = \"1.2\"\n",
    "f = float(s)\n",
    "i = int(f)\n",
    "print(f\"{i} : {type(i)}, {f} : {type(f)}\")"
   ],
   "metadata": {
    "collapsed": false,
    "pycharm": {
     "name": "#%%\n"
    }
   }
  },
  {
   "cell_type": "code",
   "execution_count": 2626,
   "outputs": [
    {
     "name": "stdout",
     "output_type": "stream",
     "text": [
      "Ottawa, Calgary, Edmonton, Victoria, Winnipeg, Toronto, Montreal, Vancouver, Vancouver\n"
     ]
    }
   ],
   "source": [
    "# list to string\n",
    "s = \", \".join(cities_list)\n",
    "print(s)"
   ],
   "metadata": {
    "collapsed": false,
    "pycharm": {
     "name": "#%%\n"
    }
   }
  },
  {
   "cell_type": "markdown",
   "source": [
    "### Search"
   ],
   "metadata": {
    "collapsed": false
   }
  },
  {
   "cell_type": "code",
   "execution_count": 2627,
   "outputs": [
    {
     "name": "stdout",
     "output_type": "stream",
     "text": [
      "first occurrence = 17\n",
      "second occurrence = 40\n",
      "no occurrence = -1\n"
     ]
    }
   ],
   "source": [
    "s = \"This is a sample test. This is a sample test.\"\n",
    "key = \"test\"\n",
    "\n",
    "# first occurrence\n",
    "i1 = s.index(key)\n",
    "print(\"first occurrence = {}\".format(i1))\n",
    "\n",
    "# second occurrence\n",
    "i2 = s.index(key, i1+1)\n",
    "print(\"second occurrence = {}\".format(i2))\n",
    "\n",
    "# no occurrence\n",
    "i3 = s.find(\"no\")\n",
    "print(\"no occurrence = {}\".format(i3))"
   ],
   "metadata": {
    "collapsed": false,
    "pycharm": {
     "name": "#%%\n"
    }
   }
  },
  {
   "cell_type": "code",
   "execution_count": 2628,
   "outputs": [
    {
     "name": "stdout",
     "output_type": "stream",
     "text": [
      "next occurrence = 17\n",
      "next occurrence = 40\n",
      "next occurrence = -1\n"
     ]
    }
   ],
   "source": [
    "# all occurrences\n",
    "i = 0\n",
    "while True:\n",
    "    i = s.find(key, i + 1, len(s))\n",
    "    print(\"next occurrence = {}\".format(i))\n",
    "    if i < 0:\n",
    "        break"
   ],
   "metadata": {
    "collapsed": false,
    "pycharm": {
     "name": "#%%\n"
    }
   }
  },
  {
   "cell_type": "markdown",
   "source": [
    "### Preparation"
   ],
   "metadata": {
    "collapsed": false
   }
  },
  {
   "cell_type": "code",
   "execution_count": 2629,
   "outputs": [
    {
     "name": "stdout",
     "output_type": "stream",
     "text": [
      "trimmed = 'Hello'\n"
     ]
    }
   ],
   "source": [
    "# trim\n",
    "s = \",, Hello \"\n",
    "print(\"trimmed = '{}'\".format(s.strip(\", \")))"
   ],
   "metadata": {
    "collapsed": false,
    "pycharm": {
     "name": "#%%\n"
    }
   }
  },
  {
   "cell_type": "code",
   "execution_count": 2630,
   "outputs": [
    {
     "name": "stdout",
     "output_type": "stream",
     "text": [
      "text = The recorded videos are not accessible in the video logs tab, score = 0.16\n"
     ]
    }
   ],
   "source": [
    "# a sample from a dataset\n",
    "s = \"The recorded videos are not accessible in the video logs tab,0.16\"\n",
    "\n",
    "# get score\n",
    "text,score = s.split(\",\")\n",
    "score = float(score)\n",
    "print(\"text = {}, score = {}\".format(text, score))"
   ],
   "metadata": {
    "collapsed": false,
    "pycharm": {
     "name": "#%%\n"
    }
   }
  },
  {
   "cell_type": "code",
   "execution_count": 2631,
   "outputs": [
    {
     "name": "stdout",
     "output_type": "stream",
     "text": [
      "line = 'The recorded videos are not accessible in the video logs tab,0.16'\n",
      "line = 'Backup scenario and restore for dynamodb,-0.01'\n",
      "line = 'Add Search function to the parent directory table,0.06'\n"
     ]
    }
   ],
   "source": [
    "# split lines of text\n",
    "# a sample from a dataset\n",
    "s = \"\"\"\n",
    "The recorded videos are not accessible in the video logs tab,0.16\n",
    "Backup scenario and restore for dynamodb,-0.01\n",
    "Add Search function to the parent directory table,0.06\n",
    "\"\"\"\n",
    "for line in s.splitlines():\n",
    "    line = line.strip()\n",
    "    if not len(line):\n",
    "        continue\n",
    "    print(\"line = '{}'\".format(line))"
   ],
   "metadata": {
    "collapsed": false,
    "pycharm": {
     "name": "#%%\n"
    }
   }
  },
  {
   "cell_type": "code",
   "execution_count": 2632,
   "outputs": [
    {
     "name": "stdout",
     "output_type": "stream",
     "text": [
      "line = The recorded videos are not accessible in the video logs tab,0.16\n",
      "line = Backup scenario and restore for dynamodb,-0.01\n",
      "line = Add Search function to the parent directory table,0.06\n"
     ]
    }
   ],
   "source": [
    "# Regex\n",
    "# a sample from a dataset\n",
    "s = \"\"\"\n",
    "[ISSUE-891] The recorded videos are not accessible in the video logs tab,0.16\n",
    "[ISSUE-86] Backup scenario and restore for dynamodb,-0.01\n",
    "[ISSUE-1290] Add Search function to the parent directory table,0.06\n",
    "\"\"\"\n",
    "\n",
    "import re\n",
    "for line in s.splitlines():\n",
    "    line = re.sub(\"^\\[ISSUE-[0-9]*\\] \", \"\", line)\n",
    "    if not len(line):\n",
    "        continue\n",
    "    print(\"line = {}\".format(line))"
   ],
   "metadata": {
    "collapsed": false,
    "pycharm": {
     "name": "#%%\n"
    }
   }
  },
  {
   "cell_type": "markdown",
   "source": [
    "read more at: https://www.w3schools.com/python/python_regex.asp"
   ],
   "metadata": {
    "collapsed": false
   }
  },
  {
   "cell_type": "markdown",
   "source": [
    "# Functional programming"
   ],
   "metadata": {
    "collapsed": false
   }
  },
  {
   "cell_type": "code",
   "execution_count": 2633,
   "outputs": [
    {
     "name": "stdout",
     "output_type": "stream",
     "text": [
      "dict = {'Ottawa': 'Ontario', 'Calgary': 'Alberta', 'Edmonton': 'Alberta', 'Victoria': 'British Columbia', 'Winnipeg': 'Manitoba', 'Toronto': 'Ontario', 'Montreal': 'Quebec', 'Vancouver': 'British Columbia'}\n",
      "provinces = ['Ontario', 'Alberta', 'Alberta', 'British Columbia', 'Manitoba', 'Ontario', 'Quebec', 'British Columbia']\n",
      "provinces = ['Ontario', 'Alberta', 'Alberta', 'British Columbia', 'Manitoba', 'Ontario', 'Quebec', 'British Columbia']\n"
     ]
    }
   ],
   "source": [
    "# list comprehensions\n",
    "print(\"dict = {}\".format(cities_to_province_dict))\n",
    "\n",
    "# get list of provinces\n",
    "provinces = []\n",
    "for city in cities_to_province_dict:\n",
    "    provinces.append(cities_to_province_dict[city])\n",
    "print(\"provinces = {}\".format(provinces))\n",
    "\n",
    "# alternative\n",
    "provinces = [cities_to_province_dict[city] for city in cities_to_province_dict]\n",
    "print(\"provinces = {}\".format(provinces))"
   ],
   "metadata": {
    "collapsed": false,
    "pycharm": {
     "name": "#%%\n"
    }
   }
  },
  {
   "cell_type": "code",
   "execution_count": 2634,
   "outputs": [
    {
     "name": "stdout",
     "output_type": "stream",
     "text": [
      "provinces_of_metropolitan_cities = ['Alberta', 'Ontario', 'Quebec']\n"
     ]
    }
   ],
   "source": [
    "# get provinces of cities with population more than 1000000\n",
    "cities_population = {'Ottawa': 900000, 'Calgary': 1300000, 'Edmonton': 981000, 'Victoria': 92000, 'Winnipeg': 750000, 'Toronto': 2900000, 'Montreal': 1800000, \"Vancouver\": 700000}\n",
    "\n",
    "provinces_of_metropolitan_cities = [cities_to_province_dict[city] for city in cities_to_province_dict if cities_population[city] > 1000000]\n",
    "print(\"provinces_of_metropolitan_cities = {}\".format(provinces_of_metropolitan_cities))"
   ],
   "metadata": {
    "collapsed": false,
    "pycharm": {
     "name": "#%%\n"
    }
   }
  },
  {
   "cell_type": "markdown",
   "source": [
    "### Example"
   ],
   "metadata": {
    "collapsed": false
   }
  },
  {
   "cell_type": "code",
   "execution_count": 2635,
   "outputs": [],
   "source": [
    "data = [\n",
    "    {\n",
    "        \"city\": \"Calgary\",\n",
    "        \"temperatures\": [\n",
    "            {\n",
    "                \"date\": \"2022-09-06\",\n",
    "                \"time\": \"00:00\",\n",
    "                \"value\": \"12\",\n",
    "            },\n",
    "            {\n",
    "                \"date\": \"2022-09-06\",\n",
    "                \"time\": \"06:00\",\n",
    "                \"value\": \"17\",\n",
    "            },\n",
    "            {\n",
    "                \"date\": \"2022-09-06\",\n",
    "                \"time\": \"12:00\",\n",
    "                \"value\": \"30\",\n",
    "            },\n",
    "            {\n",
    "                \"date\": \"2022-09-06\",\n",
    "                \"time\": \"18:00\",\n",
    "                \"value\": \"25\",\n",
    "            },\n",
    "            {\n",
    "                \"date\": \"2022-09-07\",\n",
    "                \"time\": \"00:00\",\n",
    "                \"value\": \"18\",\n",
    "            },\n",
    "            {\n",
    "                \"date\": \"2022-09-07\",\n",
    "                \"time\": \"06:00\",\n",
    "                \"value\": \"22\",\n",
    "            },\n",
    "            {\n",
    "                \"date\": \"2022-09-07\",\n",
    "                \"time\": \"12:00\",\n",
    "                \"value\": \"27\",\n",
    "            },\n",
    "            {\n",
    "                \"date\": \"2022-09-07\",\n",
    "                \"time\": \"18:00\",\n",
    "                \"value\": \"21\",\n",
    "            }\n",
    "        ]\n",
    "    }\n",
    "]"
   ],
   "metadata": {
    "collapsed": false,
    "pycharm": {
     "name": "#%%\n"
    }
   }
  },
  {
   "cell_type": "code",
   "execution_count": 2636,
   "outputs": [
    {
     "name": "stdout",
     "output_type": "stream",
     "text": [
      "{'Calgary': [{'date': '2022-09-06', 'time': '00:00', 'value': '12'}, {'date': '2022-09-06', 'time': '06:00', 'value': '17'}, {'date': '2022-09-06', 'time': '12:00', 'value': '30'}, {'date': '2022-09-06', 'time': '18:00', 'value': '25'}, {'date': '2022-09-07', 'time': '00:00', 'value': '18'}, {'date': '2022-09-07', 'time': '06:00', 'value': '22'}, {'date': '2022-09-07', 'time': '12:00', 'value': '27'}, {'date': '2022-09-07', 'time': '18:00', 'value': '21'}]}\n"
     ]
    }
   ],
   "source": [
    "# convert to dict\n",
    "city_to_temperature = {item[\"city\"]:item[\"temperatures\"] for item in data}\n",
    "print(city_to_temperature)"
   ],
   "metadata": {
    "collapsed": false,
    "pycharm": {
     "name": "#%%\n"
    }
   }
  },
  {
   "cell_type": "code",
   "execution_count": 2637,
   "outputs": [
    {
     "name": "stdout",
     "output_type": "stream",
     "text": [
      "{'Calgary': [{'date': '2022-09-06', 'time': '00:00', 'value': 12.0}, {'date': '2022-09-06', 'time': '06:00', 'value': 17.0}, {'date': '2022-09-06', 'time': '12:00', 'value': 30.0}, {'date': '2022-09-06', 'time': '18:00', 'value': 25.0}, {'date': '2022-09-07', 'time': '00:00', 'value': 18.0}, {'date': '2022-09-07', 'time': '06:00', 'value': 22.0}, {'date': '2022-09-07', 'time': '12:00', 'value': 27.0}, {'date': '2022-09-07', 'time': '18:00', 'value': 21.0}]}\n"
     ]
    }
   ],
   "source": [
    "# convert temperatures to float\n",
    "city_to_temperature_norm = {k: list(map(lambda item: {'date': item['date'], 'time': item['time'], 'value': float(item['value'])}, city_to_temperature[k])) for k in city_to_temperature.keys()}\n",
    "print(city_to_temperature_norm)"
   ],
   "metadata": {
    "collapsed": false,
    "pycharm": {
     "name": "#%%\n"
    }
   }
  },
  {
   "cell_type": "code",
   "execution_count": 2638,
   "outputs": [
    {
     "name": "stdout",
     "output_type": "stream",
     "text": [
      "[{'date': '2022-09-06', 'time': '12:00', 'value': 30.0}, {'date': '2022-09-06', 'time': '18:00', 'value': 25.0}, {'date': '2022-09-07', 'time': '06:00', 'value': 22.0}, {'date': '2022-09-07', 'time': '12:00', 'value': 27.0}, {'date': '2022-09-07', 'time': '18:00', 'value': 21.0}]\n"
     ]
    }
   ],
   "source": [
    "# filter temperatures of Calgary higher than 20\n",
    "calgary_temp = city_to_temperature_norm[\"Calgary\"]\n",
    "calgary_temp_higher_than_20 = list(filter(lambda item: item[\"value\"] > 20, calgary_temp))\n",
    "print(calgary_temp_higher_than_20)"
   ],
   "metadata": {
    "collapsed": false,
    "pycharm": {
     "name": "#%%\n"
    }
   }
  },
  {
   "cell_type": "code",
   "execution_count": 2639,
   "outputs": [
    {
     "name": "stdout",
     "output_type": "stream",
     "text": [
      "[{'date': '2022-09-06', 'time': '12:00', 'value': 30.0}, {'date': '2022-09-06', 'time': '18:00', 'value': 25.0}, {'date': '2022-09-07', 'time': '06:00', 'value': 22.0}, {'date': '2022-09-07', 'time': '12:00', 'value': 27.0}, {'date': '2022-09-07', 'time': '18:00', 'value': 21.0}]\n"
     ]
    }
   ],
   "source": [
    "# Alternative solution\n",
    "def filter_by_temp(item):\n",
    "    return item[\"value\"] > 20\n",
    "calgary_temp_higher_than_20 = list(filter(filter_by_temp, calgary_temp))\n",
    "print(calgary_temp_higher_than_20)"
   ],
   "metadata": {
    "collapsed": false,
    "pycharm": {
     "name": "#%%\n"
    }
   }
  },
  {
   "cell_type": "code",
   "execution_count": 2640,
   "outputs": [
    {
     "name": "stdout",
     "output_type": "stream",
     "text": [
      "avg = 21.5\n"
     ]
    }
   ],
   "source": [
    "# average of temperature in Calgary\n",
    "from functools import reduce\n",
    "\n",
    "calgary_all_temp = list(map(lambda item: item['value'],calgary_temp))\n",
    "sum_temp = reduce(lambda a,b: a+b, calgary_all_temp)\n",
    "num_temp = len(calgary_all_temp)\n",
    "avg_temp = sum_temp / num_temp\n",
    "print(\"avg = {}\".format(avg_temp))"
   ],
   "metadata": {
    "collapsed": false,
    "pycharm": {
     "name": "#%%\n"
    }
   }
  },
  {
   "cell_type": "code",
   "execution_count": 2641,
   "outputs": [
    {
     "name": "stdout",
     "output_type": "stream",
     "text": [
      "max = 30.0\n"
     ]
    }
   ],
   "source": [
    "# maximum temerature in Calgary\n",
    "max_temp = reduce(lambda a,b: a if a > b else b, calgary_all_temp)\n",
    "print(\"max = {}\".format(max_temp))"
   ],
   "metadata": {
    "collapsed": false,
    "pycharm": {
     "name": "#%%\n"
    }
   }
  },
  {
   "cell_type": "code",
   "execution_count": 2642,
   "outputs": [
    {
     "name": "stdout",
     "output_type": "stream",
     "text": [
      "max = 30.0\n"
     ]
    }
   ],
   "source": [
    "# alternative\n",
    "max_temp = reduce(max, calgary_all_temp)\n",
    "print(\"max = {}\".format(max_temp))"
   ],
   "metadata": {
    "collapsed": false,
    "pycharm": {
     "name": "#%%\n"
    }
   }
  },
  {
   "cell_type": "code",
   "execution_count": 2643,
   "outputs": [
    {
     "name": "stdout",
     "output_type": "stream",
     "text": [
      "sorted_calgary_temp = [{'date': '2022-09-06', 'time': '00:00', 'value': 12.0}, {'date': '2022-09-06', 'time': '06:00', 'value': 17.0}, {'date': '2022-09-07', 'time': '00:00', 'value': 18.0}, {'date': '2022-09-07', 'time': '18:00', 'value': 21.0}, {'date': '2022-09-07', 'time': '06:00', 'value': 22.0}, {'date': '2022-09-06', 'time': '18:00', 'value': 25.0}, {'date': '2022-09-07', 'time': '12:00', 'value': 27.0}, {'date': '2022-09-06', 'time': '12:00', 'value': 30.0}]\n"
     ]
    }
   ],
   "source": [
    "# sort Calgary temperatures\n",
    "sorted_calgary_temp = sorted(calgary_temp, key=lambda item: item['value'])\n",
    "print(\"sorted_calgary_temp = {}\".format(sorted_calgary_temp))"
   ],
   "metadata": {
    "collapsed": false,
    "pycharm": {
     "name": "#%%\n"
    }
   }
  },
  {
   "cell_type": "code",
   "execution_count": 2644,
   "outputs": [
    {
     "name": "stdout",
     "output_type": "stream",
     "text": [
      "date = 2022-09-06, avg = 21.0\n",
      "date = 2022-09-07, avg = 22.0\n"
     ]
    }
   ],
   "source": [
    "# get average of temperature for Calgary per date\n",
    "# group temperature by date\n",
    "from itertools import groupby\n",
    "\n",
    "for date, group in groupby(calgary_temp, lambda item: item['date']):\n",
    "    list_temp = list(group)\n",
    "    temp_values = map(lambda item: item['value'], list_temp)\n",
    "    sum_temp = reduce(operator.add, temp_values)\n",
    "    avg_temp = sum_temp / len(list_temp)\n",
    "    print(\"date = {}, avg = {}\".format(date, avg_temp))"
   ],
   "metadata": {
    "collapsed": false,
    "pycharm": {
     "name": "#%%\n"
    }
   }
  },
  {
   "cell_type": "markdown",
   "source": [
    "# File operations"
   ],
   "metadata": {
    "collapsed": false
   }
  },
  {
   "cell_type": "code",
   "execution_count": 2645,
   "outputs": [
    {
     "name": "stdout",
     "output_type": "stream",
     "text": [
      "['./data.csv']\n"
     ]
    }
   ],
   "source": [
    "# list all csv or text files in the current directory\n",
    "\n",
    "import os\n",
    "import re\n",
    "\n",
    "dir_name = \".\"\n",
    "files = [os.path.join(dir_name, f) for f in os.listdir(dir_name) if re.match(r'.*\\.(csv|txt|text)', f)]\n",
    "print(files)"
   ],
   "metadata": {
    "collapsed": false,
    "pycharm": {
     "name": "#%%\n"
    }
   }
  },
  {
   "cell_type": "code",
   "execution_count": 2646,
   "outputs": [
    {
     "name": "stdout",
     "output_type": "stream",
     "text": [
      "{'Hartsfield–Jackson Atlanta International Airport': {'country': 'United States', 'count': 103902992}, 'Beijing Capital International Airport': {'country': 'China', 'count': 95786442}, 'Dubai International Airport': {'country': 'United Arab Emirates', 'count': 88242099}, 'Los Angeles International Airport': {'country': 'United States', 'count': 84557968}, \"O'Hare International Airport\": {'country': 'United States', 'count': 79828183}, 'Heathrow Airport': {'country': 'United Kingdom', 'count': 78014598}, 'Haneda Airport': {'country': 'Japan', 'count': 76476251}, 'Hong Kong International Airport': {'country': 'Hong Kong', 'count': 72665078}, 'Shanghai Pudong International Airport': {'country': 'China', 'count': 70001237}, 'Charles de Gaulle International Airport': {'country': 'France', 'count': 69471442}, 'Amsterdam Airport Schiphol': {'country': 'Netherlands', 'count': 68515425}, 'Dallas-Fort Worth International Airport': {'country': 'United States', 'count': 67092194}, 'Guangzhou Baiyun International Airport': {'country': 'China', 'count': 65887473}, 'Frankfurt am Main International Airport': {'country': 'Germany', 'count': 64500386}, 'Istanbul Atatürk Airport': {'country': 'Turkey', 'count': 63859785}, 'Indira Gandhi International Airport': {'country': 'India', 'count': 63451503}, 'Soekarno-Hatta International Airport': {'country': 'Indonesia', 'count': 63015620}, 'Singapore Changi Airport': {'country': 'Singapore', 'count': 62219573}, 'Incheon International Airport': {'country': 'South Korea', 'count': 62157834}, 'Denver International Airport': {'country': 'United States', 'count': 61379396}, 'Suvarnabhumi Airport': {'country': 'Thailand', 'count': 60860557}, 'John F. Kennedy International Airport': {'country': 'United States', 'count': 59392500}, 'Kuala Lumpur International Airport': {'country': 'Malaysia', 'count': 58558440}, 'San Francisco International Airport': {'country': 'United States', 'count': 55822129}, 'Adolfo Suárez Madrid–Barajas Airport': {'country': 'Spain', 'count': 53386075}, 'Chengdu Shuangliu International Airport': {'country': 'China', 'count': 49801693}, 'McCarran International Airport': {'country': 'United States', 'count': 48566803}, 'Barcelona–El Prat Airport': {'country': 'Spain', 'count': 47262826}, 'Chhatrapati Shivaji International Airport': {'country': 'India', 'count': 47204259}, 'Toronto Pearson International Airport': {'country': 'Canada', 'count': 47054696}, 'Seattle–Tacoma International Airport': {'country': 'United States', 'count': 46934194}, 'Charlotte Douglas International Airport': {'country': 'United States', 'count': 45909899}, 'Gatwick Airport': {'country': 'United Kingdom', 'count': 45561694}, \"Shenzhen Bao'an International Airport\": {'country': 'China', 'count': 45558409}, 'Taiwan Taoyuan International Airport': {'country': 'Taiwan', 'count': 44878703}, 'Mexico City International Airport': {'country': 'Mexico', 'count': 44732418}, 'Kunming Changshui International Airport': {'country': 'China', 'count': 44729736}, 'Munich Airport': {'country': 'Germany', 'count': 44577241}, 'Orlando International Airport': {'country': 'United States', 'count': 44511265}, 'Miami International Airport': {'country': 'United States', 'count': 44071313}, 'Phoenix Sky Harbor International Airport': {'country': 'United States', 'count': 43921670}, 'Sydney Airport': {'country': 'Australia', 'count': 43410355}, 'Newark Liberty International Airport': {'country': 'United States', 'count': 43393499}, 'Ninoy Aquino International Airport': {'country': 'Philippines', 'count': 42022484}, 'Shanghai Hongqiao International Airport': {'country': 'China', 'count': 41884059}, \"Xi'an Xianyang International Airport\": {'country': 'China', 'count': 41857406}, 'Leonardo da Vinci–Fiumicino Airport': {'country': 'Italy', 'count': 40968756}, 'George Bush Intercontinental Houston Airport': {'country': 'United States', 'count': 40696189}, 'Narita International Airport': {'country': 'Japan', 'count': 40631193}, 'Sheremetyevo International Airport': {'country': 'Russia', 'count': 40092806}, 'Chongqing Jiangbei International Airport': {'country': 'China', 'count': 38715210}, 'Don Mueang International Airport': {'country': 'Thailand', 'count': 38299757}, 'St Paul International Airport': {'country': 'United States', 'count': 38034341}, 'São Paulo–Guarulhos International Airport': {'country': 'Brazil', 'count': 37774000}, 'Logan International Airport': {'country': 'United States', 'count': 36288042}, 'Tan Son Nhat International Airport': {'country': 'Vietnam', 'count': 35900000}, 'Hamad International Airport': {'country': 'Qatar', 'count': 35867252}, 'Hangzhou Xiaoshan International Airport': {'country': 'China', 'count': 35570411}, 'Detroit Metropolitan Wayne County Airport': {'country': 'United States', 'count': 34701497}, 'King Abdulaziz International Airport': {'country': 'Saudi Arabia', 'count': 33917282}, 'Melbourne Airport': {'country': 'Australia', 'count': 33704854}, 'Fort Lauderdale Hollywood International Airport': {'country': 'United States', 'count': 32511053}, 'Orlando Executive Airport': {'country': 'United States', 'count': 32042475}, 'Sabiha Gökçen International Airport': {'country': 'Turkey', 'count': 31385841}, 'El Dorado International Airport': {'country': 'Colombia', 'count': 30989932}, 'Moscow Domodedovo Airport': {'country': 'Russia', 'count': 30700000}, 'Jeju International Airport': {'country': 'South Korea', 'count': 29846712}, 'LaGuardia Airport': {'country': 'United States', 'count': 29786769}, 'Philadelphia International Airport': {'country': 'United States', 'count': 29585754}, 'Dublin Airport': {'country': 'Ireland', 'count': 29582321}, 'Zürich Airport': {'country': 'Switzerland', 'count': 29396094}, 'Copenhagen Airport': {'country': 'Denmark', 'count': 29177833}, 'Kansai International Airport': {'country': 'Japan', 'count': 27983093}, 'Palma De Mallorca Airport': {'country': 'Spain', 'count': 27970655}, 'Manchester Airport': {'country': 'United Kingdom', 'count': 27901708}, '\"Oslo Airport': {'country': 'Oslo', 'count': 27482315}, 'Lisbon Portela Airport': {'country': 'Portugal', 'count': 26669755}, 'Stockholm Arlanda Airport': {'country': 'Sweden', 'count': 26642034}, 'Washington International Thurgood Marshall Airport': {'country': 'United States', 'count': 26369411}, 'Antalya Airport': {'country': 'Turkey', 'count': 25931659}, 'London Stansted Airport': {'country': 'United Kingdom', 'count': 25904573}, 'Nanjing Lukou International Airport': {'country': 'China', 'count': 25822936}, 'Gimpo International Airport': {'country': 'South Korea', 'count': 25267408}, 'Kempegowda International Airport': {'country': 'India', 'count': 25047272}, 'King Khaled International Airport': {'country': 'Saudi Arabia', 'count': 25038000}, 'Brussels Airport': {'country': 'Belgium', 'count': 24783911}, 'Düsseldorf International Airport': {'country': 'Germany', 'count': 24640564}, 'Xiamen Gaoqi International Airport': {'country': 'China', 'count': 24485239}, 'Vienna International Airport': {'country': 'Austria', 'count': 24392805}, 'Zhengzhou Xinzheng International Airport': {'country': 'China', 'count': 24299073}, 'Salt Lake City International Airport': {'country': 'United States', 'count': 24198816}, 'Vancouver International Airport': {'country': 'Canada', 'count': 24166122}, 'Ronald Reagan Washington National Airport': {'country': 'United States', 'count': 23928248}, 'Changsha Huanghua International Airport': {'country': 'China', 'count': 23764820}, 'Abu Dhabi International Airport': {'country': 'United Arab Emirates', 'count': 23760561}, 'Cancún International Airport': {'country': 'Mexico', 'count': 23601509}, 'Fukuoka Airport': {'country': 'Japan', 'count': 23484678}, 'Liuting Airport': {'country': 'China', 'count': 23210530}, 'Brisbane International Airport': {'country': 'Australia', 'count': 23205702}, 'Wuhan Tianhe International Airport': {'country': 'China', 'count': 23129400}}\n"
     ]
    }
   ],
   "source": [
    "# name of the busiest airports in the world\n",
    "file = files[0]\n",
    "# read file into text\n",
    "with open(file, \"r\") as f:\n",
    "    text = f.read()\n",
    "# split lines\n",
    "lines = text.split(\"\\n\")\n",
    "# skip first row\n",
    "lines = lines[1:]\n",
    "\n",
    "airports = {}\n",
    "# iterate over lines\n",
    "for line in lines:\n",
    "    # get the number column\n",
    "    count = re.findall('\\\"[0-9,]+\\\"', line)[0]\n",
    "    # remove non-digit chars\n",
    "    count = re.sub(r'[^\\d]', '', count)\n",
    "    # cast to int\n",
    "    count = int(count)\n",
    "    sp = line.split(\",\")\n",
    "    # get country\n",
    "    country = sp[4]\n",
    "    # airport name\n",
    "    airport = sp[1]\n",
    "    airports[airport] = {'country': country, 'count': count}\n",
    "\n",
    "print(airports)"
   ],
   "metadata": {
    "collapsed": false,
    "pycharm": {
     "name": "#%%\n"
    }
   }
  }
 ],
 "metadata": {
  "kernelspec": {
   "display_name": "Python 3",
   "language": "python",
   "name": "python3"
  },
  "language_info": {
   "codemirror_mode": {
    "name": "ipython",
    "version": 2
   },
   "file_extension": ".py",
   "mimetype": "text/x-python",
   "name": "python",
   "nbconvert_exporter": "python",
   "pygments_lexer": "ipython2",
   "version": "2.7.6"
  }
 },
 "nbformat": 4,
 "nbformat_minor": 0
}